{
 "cells": [
  {
   "cell_type": "markdown",
   "metadata": {},
   "source": [
    "# SAM Tool Walkthrough"
   ]
  },
  {
   "cell_type": "code",
   "execution_count": 18,
   "metadata": {},
   "outputs": [],
   "source": [
    "# Import profiler functions.\n",
    "import pandas as pd\n",
    "import datetime\n",
    "\n",
    "from profiler import get_info\n",
    "from profiler import qualification\n",
    "from profiler import risk_profile\n",
    "\n",
    "# Import data retrieval.\n",
    "from data_retrieval import import_asset_data_jupyter\n",
    "from data_retrieval import format_close_price\n",
    "\n",
    "# Import calculation functions.\n",
    "from calculations import calculate_average_annual_returns\n",
    "from calculations import calculate_average_annual_volatility\n",
    "from calculations import calculate_daily_returns\n",
    "from calculations import calculate_sharpe_ratio\n",
    "from calculations import calculate_portfolio_return\n",
    "\n",
    "# Tickers.\n",
    "timeframe = \"1D\"\n",
    "tickers = [\"AGG\", \"SPY\"]\n",
    "start_date = \"2010-06-01\"\n",
    "end_date = \"2020-06-01\"\n",
    "\n",
    "# Weights per client risk profile.  \n",
    "risk_profile_weights = {\"conservative\" : [0.1, 0.9], \"moderately conservative\" : [0.25, 0.7], \n",
    "                        \"moderate\" : [0.6, 0.3], \"moderately aggressive\" : [0.75, 0.2],\n",
    "                        \"aggressive\" : [0.8, 0]}"
   ]
  },
  {
   "cell_type": "markdown",
   "metadata": {},
   "source": [
    "## Retrieve Client Information"
   ]
  },
  {
   "cell_type": "code",
   "execution_count": 19,
   "metadata": {},
   "outputs": [
    {
     "name": "stdout",
     "output_type": "stream",
     "text": [
      "Net worth: 64000\n",
      "You are able to invest: 64000\n"
     ]
    }
   ],
   "source": [
    "# Clientele information; (hardcoded since questionary cannot run in Jupyter Notebook)\n",
    "cash = 10000\n",
    "assets = 3000\n",
    "income = 75000\n",
    "liquidity = 24000\n",
    "\n",
    "# Calculate client's net worth.\n",
    "net_worth = qualification(cash, assets, income, liquidity)\n",
    "\n",
    "# Determine client's risk profile (hardcoded since questionary cannot run in Jupyter Notebook)\n",
    "risk_prof = \"moderately aggressive\""
   ]
  },
  {
   "cell_type": "markdown",
   "metadata": {},
   "source": [
    "## Data Retrieval"
   ]
  },
  {
   "cell_type": "code",
   "execution_count": 22,
   "metadata": {},
   "outputs": [
    {
     "name": "stdout",
     "output_type": "stream",
     "text": [
      "Got here\n"
     ]
    },
    {
     "data": {
      "text/html": [
       "<div>\n",
       "<style scoped>\n",
       "    .dataframe tbody tr th:only-of-type {\n",
       "        vertical-align: middle;\n",
       "    }\n",
       "\n",
       "    .dataframe tbody tr th {\n",
       "        vertical-align: top;\n",
       "    }\n",
       "\n",
       "    .dataframe thead tr th {\n",
       "        text-align: left;\n",
       "    }\n",
       "\n",
       "    .dataframe thead tr:last-of-type th {\n",
       "        text-align: right;\n",
       "    }\n",
       "</style>\n",
       "<table border=\"1\" class=\"dataframe\">\n",
       "  <thead>\n",
       "    <tr>\n",
       "      <th></th>\n",
       "      <th colspan=\"5\" halign=\"left\">AGG</th>\n",
       "      <th colspan=\"5\" halign=\"left\">SPY</th>\n",
       "    </tr>\n",
       "    <tr>\n",
       "      <th></th>\n",
       "      <th>open</th>\n",
       "      <th>high</th>\n",
       "      <th>low</th>\n",
       "      <th>close</th>\n",
       "      <th>volume</th>\n",
       "      <th>open</th>\n",
       "      <th>high</th>\n",
       "      <th>low</th>\n",
       "      <th>close</th>\n",
       "      <th>volume</th>\n",
       "    </tr>\n",
       "    <tr>\n",
       "      <th>time</th>\n",
       "      <th></th>\n",
       "      <th></th>\n",
       "      <th></th>\n",
       "      <th></th>\n",
       "      <th></th>\n",
       "      <th></th>\n",
       "      <th></th>\n",
       "      <th></th>\n",
       "      <th></th>\n",
       "      <th></th>\n",
       "    </tr>\n",
       "  </thead>\n",
       "  <tbody>\n",
       "    <tr>\n",
       "      <th>2020-01-08 00:00:00-05:00</th>\n",
       "      <td>112.85</td>\n",
       "      <td>112.9400</td>\n",
       "      <td>112.545</td>\n",
       "      <td>112.660</td>\n",
       "      <td>3161792</td>\n",
       "      <td>322.9400</td>\n",
       "      <td>325.780</td>\n",
       "      <td>322.6900</td>\n",
       "      <td>324.420</td>\n",
       "      <td>53033838</td>\n",
       "    </tr>\n",
       "    <tr>\n",
       "      <th>2020-01-09 00:00:00-05:00</th>\n",
       "      <td>112.49</td>\n",
       "      <td>112.7900</td>\n",
       "      <td>112.460</td>\n",
       "      <td>112.790</td>\n",
       "      <td>4255663</td>\n",
       "      <td>326.1600</td>\n",
       "      <td>326.730</td>\n",
       "      <td>325.5200</td>\n",
       "      <td>326.620</td>\n",
       "      <td>40652148</td>\n",
       "    </tr>\n",
       "    <tr>\n",
       "      <th>2020-01-10 00:00:00-05:00</th>\n",
       "      <td>112.90</td>\n",
       "      <td>112.9900</td>\n",
       "      <td>112.820</td>\n",
       "      <td>112.990</td>\n",
       "      <td>3618649</td>\n",
       "      <td>327.2899</td>\n",
       "      <td>327.460</td>\n",
       "      <td>325.2000</td>\n",
       "      <td>325.700</td>\n",
       "      <td>42585254</td>\n",
       "    </tr>\n",
       "    <tr>\n",
       "      <th>2020-01-13 00:00:00-05:00</th>\n",
       "      <td>112.89</td>\n",
       "      <td>112.9400</td>\n",
       "      <td>112.825</td>\n",
       "      <td>112.890</td>\n",
       "      <td>3527509</td>\n",
       "      <td>326.3900</td>\n",
       "      <td>327.960</td>\n",
       "      <td>325.9200</td>\n",
       "      <td>327.940</td>\n",
       "      <td>34646079</td>\n",
       "    </tr>\n",
       "    <tr>\n",
       "      <th>2020-01-14 00:00:00-05:00</th>\n",
       "      <td>112.97</td>\n",
       "      <td>113.0200</td>\n",
       "      <td>112.930</td>\n",
       "      <td>113.000</td>\n",
       "      <td>2651024</td>\n",
       "      <td>327.4700</td>\n",
       "      <td>328.620</td>\n",
       "      <td>326.8440</td>\n",
       "      <td>327.430</td>\n",
       "      <td>51206473</td>\n",
       "    </tr>\n",
       "    <tr>\n",
       "      <th>...</th>\n",
       "      <td>...</td>\n",
       "      <td>...</td>\n",
       "      <td>...</td>\n",
       "      <td>...</td>\n",
       "      <td>...</td>\n",
       "      <td>...</td>\n",
       "      <td>...</td>\n",
       "      <td>...</td>\n",
       "      <td>...</td>\n",
       "      <td>...</td>\n",
       "    </tr>\n",
       "    <tr>\n",
       "      <th>2020-05-18 00:00:00-04:00</th>\n",
       "      <td>116.97</td>\n",
       "      <td>117.0900</td>\n",
       "      <td>116.660</td>\n",
       "      <td>116.840</td>\n",
       "      <td>9357286</td>\n",
       "      <td>293.0500</td>\n",
       "      <td>296.710</td>\n",
       "      <td>292.7000</td>\n",
       "      <td>294.995</td>\n",
       "      <td>200913150</td>\n",
       "    </tr>\n",
       "    <tr>\n",
       "      <th>2020-05-19 00:00:00-04:00</th>\n",
       "      <td>116.91</td>\n",
       "      <td>117.0255</td>\n",
       "      <td>116.810</td>\n",
       "      <td>116.975</td>\n",
       "      <td>7485700</td>\n",
       "      <td>294.3500</td>\n",
       "      <td>296.205</td>\n",
       "      <td>291.9500</td>\n",
       "      <td>292.020</td>\n",
       "      <td>157167743</td>\n",
       "    </tr>\n",
       "    <tr>\n",
       "      <th>2020-05-20 00:00:00-04:00</th>\n",
       "      <td>117.03</td>\n",
       "      <td>117.3400</td>\n",
       "      <td>117.000</td>\n",
       "      <td>117.300</td>\n",
       "      <td>7298248</td>\n",
       "      <td>295.8200</td>\n",
       "      <td>297.870</td>\n",
       "      <td>295.5700</td>\n",
       "      <td>296.960</td>\n",
       "      <td>131889644</td>\n",
       "    </tr>\n",
       "    <tr>\n",
       "      <th>2020-05-21 00:00:00-04:00</th>\n",
       "      <td>117.35</td>\n",
       "      <td>117.4750</td>\n",
       "      <td>117.320</td>\n",
       "      <td>117.360</td>\n",
       "      <td>9298498</td>\n",
       "      <td>296.7900</td>\n",
       "      <td>297.670</td>\n",
       "      <td>293.6886</td>\n",
       "      <td>294.790</td>\n",
       "      <td>137785798</td>\n",
       "    </tr>\n",
       "    <tr>\n",
       "      <th>2020-05-22 00:00:00-04:00</th>\n",
       "      <td>117.60</td>\n",
       "      <td>117.6000</td>\n",
       "      <td>117.390</td>\n",
       "      <td>117.445</td>\n",
       "      <td>5391598</td>\n",
       "      <td>294.5700</td>\n",
       "      <td>295.630</td>\n",
       "      <td>293.2200</td>\n",
       "      <td>295.420</td>\n",
       "      <td>105447017</td>\n",
       "    </tr>\n",
       "  </tbody>\n",
       "</table>\n",
       "<p>95 rows × 10 columns</p>\n",
       "</div>"
      ],
      "text/plain": [
       "                              AGG                                       \\\n",
       "                             open      high      low    close   volume   \n",
       "time                                                                     \n",
       "2020-01-08 00:00:00-05:00  112.85  112.9400  112.545  112.660  3161792   \n",
       "2020-01-09 00:00:00-05:00  112.49  112.7900  112.460  112.790  4255663   \n",
       "2020-01-10 00:00:00-05:00  112.90  112.9900  112.820  112.990  3618649   \n",
       "2020-01-13 00:00:00-05:00  112.89  112.9400  112.825  112.890  3527509   \n",
       "2020-01-14 00:00:00-05:00  112.97  113.0200  112.930  113.000  2651024   \n",
       "...                           ...       ...      ...      ...      ...   \n",
       "2020-05-18 00:00:00-04:00  116.97  117.0900  116.660  116.840  9357286   \n",
       "2020-05-19 00:00:00-04:00  116.91  117.0255  116.810  116.975  7485700   \n",
       "2020-05-20 00:00:00-04:00  117.03  117.3400  117.000  117.300  7298248   \n",
       "2020-05-21 00:00:00-04:00  117.35  117.4750  117.320  117.360  9298498   \n",
       "2020-05-22 00:00:00-04:00  117.60  117.6000  117.390  117.445  5391598   \n",
       "\n",
       "                                SPY                                         \n",
       "                               open     high       low    close     volume  \n",
       "time                                                                        \n",
       "2020-01-08 00:00:00-05:00  322.9400  325.780  322.6900  324.420   53033838  \n",
       "2020-01-09 00:00:00-05:00  326.1600  326.730  325.5200  326.620   40652148  \n",
       "2020-01-10 00:00:00-05:00  327.2899  327.460  325.2000  325.700   42585254  \n",
       "2020-01-13 00:00:00-05:00  326.3900  327.960  325.9200  327.940   34646079  \n",
       "2020-01-14 00:00:00-05:00  327.4700  328.620  326.8440  327.430   51206473  \n",
       "...                             ...      ...       ...      ...        ...  \n",
       "2020-05-18 00:00:00-04:00  293.0500  296.710  292.7000  294.995  200913150  \n",
       "2020-05-19 00:00:00-04:00  294.3500  296.205  291.9500  292.020  157167743  \n",
       "2020-05-20 00:00:00-04:00  295.8200  297.870  295.5700  296.960  131889644  \n",
       "2020-05-21 00:00:00-04:00  296.7900  297.670  293.6886  294.790  137785798  \n",
       "2020-05-22 00:00:00-04:00  294.5700  295.630  293.2200  295.420  105447017  \n",
       "\n",
       "[95 rows x 10 columns]"
      ]
     },
     "execution_count": 22,
     "metadata": {},
     "output_type": "execute_result"
    }
   ],
   "source": [
    "# Import historical financial data and retrieve closing prices.\n",
    "raw_data_df = import_asset_data_jupyter(start_date, end_date, tickers, timeframe)\n",
    "\n",
    "# Verify raw data.\n",
    "raw_data_df.head(-5)"
   ]
  },
  {
   "cell_type": "code",
   "execution_count": 21,
   "metadata": {},
   "outputs": [
    {
     "data": {
      "text/html": [
       "<div>\n",
       "<style scoped>\n",
       "    .dataframe tbody tr th:only-of-type {\n",
       "        vertical-align: middle;\n",
       "    }\n",
       "\n",
       "    .dataframe tbody tr th {\n",
       "        vertical-align: top;\n",
       "    }\n",
       "\n",
       "    .dataframe thead th {\n",
       "        text-align: right;\n",
       "    }\n",
       "</style>\n",
       "<table border=\"1\" class=\"dataframe\">\n",
       "  <thead>\n",
       "    <tr style=\"text-align: right;\">\n",
       "      <th></th>\n",
       "      <th>AGG</th>\n",
       "      <th>SPY</th>\n",
       "    </tr>\n",
       "  </thead>\n",
       "  <tbody>\n",
       "    <tr>\n",
       "      <th>2020-01-08</th>\n",
       "      <td>112.660</td>\n",
       "      <td>324.420</td>\n",
       "    </tr>\n",
       "    <tr>\n",
       "      <th>2020-01-09</th>\n",
       "      <td>112.790</td>\n",
       "      <td>326.620</td>\n",
       "    </tr>\n",
       "    <tr>\n",
       "      <th>2020-01-10</th>\n",
       "      <td>112.990</td>\n",
       "      <td>325.700</td>\n",
       "    </tr>\n",
       "    <tr>\n",
       "      <th>2020-01-13</th>\n",
       "      <td>112.890</td>\n",
       "      <td>327.940</td>\n",
       "    </tr>\n",
       "    <tr>\n",
       "      <th>2020-01-14</th>\n",
       "      <td>113.000</td>\n",
       "      <td>327.430</td>\n",
       "    </tr>\n",
       "    <tr>\n",
       "      <th>...</th>\n",
       "      <td>...</td>\n",
       "      <td>...</td>\n",
       "    </tr>\n",
       "    <tr>\n",
       "      <th>2020-05-18</th>\n",
       "      <td>116.840</td>\n",
       "      <td>294.995</td>\n",
       "    </tr>\n",
       "    <tr>\n",
       "      <th>2020-05-19</th>\n",
       "      <td>116.975</td>\n",
       "      <td>292.020</td>\n",
       "    </tr>\n",
       "    <tr>\n",
       "      <th>2020-05-20</th>\n",
       "      <td>117.300</td>\n",
       "      <td>296.960</td>\n",
       "    </tr>\n",
       "    <tr>\n",
       "      <th>2020-05-21</th>\n",
       "      <td>117.360</td>\n",
       "      <td>294.790</td>\n",
       "    </tr>\n",
       "    <tr>\n",
       "      <th>2020-05-22</th>\n",
       "      <td>117.445</td>\n",
       "      <td>295.420</td>\n",
       "    </tr>\n",
       "  </tbody>\n",
       "</table>\n",
       "<p>95 rows × 2 columns</p>\n",
       "</div>"
      ],
      "text/plain": [
       "                AGG      SPY\n",
       "2020-01-08  112.660  324.420\n",
       "2020-01-09  112.790  326.620\n",
       "2020-01-10  112.990  325.700\n",
       "2020-01-13  112.890  327.940\n",
       "2020-01-14  113.000  327.430\n",
       "...             ...      ...\n",
       "2020-05-18  116.840  294.995\n",
       "2020-05-19  116.975  292.020\n",
       "2020-05-20  117.300  296.960\n",
       "2020-05-21  117.360  294.790\n",
       "2020-05-22  117.445  295.420\n",
       "\n",
       "[95 rows x 2 columns]"
      ]
     },
     "execution_count": 21,
     "metadata": {},
     "output_type": "execute_result"
    }
   ],
   "source": [
    "# Retrieve closing prices.\n",
    "raw_data_close_df = format_close_price(raw_data_df, tickers)\n",
    "\n",
    "# Verify closing prices.\n",
    "raw_data_close_df.head(-5)"
   ]
  },
  {
   "cell_type": "markdown",
   "metadata": {},
   "source": [
    "## Retrieve Daily Returns"
   ]
  },
  {
   "cell_type": "code",
   "execution_count": 8,
   "metadata": {},
   "outputs": [
    {
     "data": {
      "text/html": [
       "<div>\n",
       "<style scoped>\n",
       "    .dataframe tbody tr th:only-of-type {\n",
       "        vertical-align: middle;\n",
       "    }\n",
       "\n",
       "    .dataframe tbody tr th {\n",
       "        vertical-align: top;\n",
       "    }\n",
       "\n",
       "    .dataframe thead th {\n",
       "        text-align: right;\n",
       "    }\n",
       "</style>\n",
       "<table border=\"1\" class=\"dataframe\">\n",
       "  <thead>\n",
       "    <tr style=\"text-align: right;\">\n",
       "      <th></th>\n",
       "      <th>AGG</th>\n",
       "      <th>SPY</th>\n",
       "    </tr>\n",
       "  </thead>\n",
       "  <tbody>\n",
       "    <tr>\n",
       "      <th>2020-01-09</th>\n",
       "      <td>0.001154</td>\n",
       "      <td>0.006781</td>\n",
       "    </tr>\n",
       "    <tr>\n",
       "      <th>2020-01-10</th>\n",
       "      <td>0.001773</td>\n",
       "      <td>-0.002817</td>\n",
       "    </tr>\n",
       "    <tr>\n",
       "      <th>2020-01-13</th>\n",
       "      <td>-0.000885</td>\n",
       "      <td>0.006877</td>\n",
       "    </tr>\n",
       "    <tr>\n",
       "      <th>2020-01-14</th>\n",
       "      <td>0.000974</td>\n",
       "      <td>-0.001555</td>\n",
       "    </tr>\n",
       "    <tr>\n",
       "      <th>2020-01-15</th>\n",
       "      <td>0.001681</td>\n",
       "      <td>0.002260</td>\n",
       "    </tr>\n",
       "    <tr>\n",
       "      <th>...</th>\n",
       "      <td>...</td>\n",
       "      <td>...</td>\n",
       "    </tr>\n",
       "    <tr>\n",
       "      <th>2020-05-18</th>\n",
       "      <td>-0.001624</td>\n",
       "      <td>0.030514</td>\n",
       "    </tr>\n",
       "    <tr>\n",
       "      <th>2020-05-19</th>\n",
       "      <td>0.001155</td>\n",
       "      <td>-0.010085</td>\n",
       "    </tr>\n",
       "    <tr>\n",
       "      <th>2020-05-20</th>\n",
       "      <td>0.002778</td>\n",
       "      <td>0.016917</td>\n",
       "    </tr>\n",
       "    <tr>\n",
       "      <th>2020-05-21</th>\n",
       "      <td>0.000512</td>\n",
       "      <td>-0.007307</td>\n",
       "    </tr>\n",
       "    <tr>\n",
       "      <th>2020-05-22</th>\n",
       "      <td>0.000724</td>\n",
       "      <td>0.002137</td>\n",
       "    </tr>\n",
       "  </tbody>\n",
       "</table>\n",
       "<p>94 rows × 2 columns</p>\n",
       "</div>"
      ],
      "text/plain": [
       "                 AGG       SPY\n",
       "2020-01-09  0.001154  0.006781\n",
       "2020-01-10  0.001773 -0.002817\n",
       "2020-01-13 -0.000885  0.006877\n",
       "2020-01-14  0.000974 -0.001555\n",
       "2020-01-15  0.001681  0.002260\n",
       "...              ...       ...\n",
       "2020-05-18 -0.001624  0.030514\n",
       "2020-05-19  0.001155 -0.010085\n",
       "2020-05-20  0.002778  0.016917\n",
       "2020-05-21  0.000512 -0.007307\n",
       "2020-05-22  0.000724  0.002137\n",
       "\n",
       "[94 rows x 2 columns]"
      ]
     },
     "execution_count": 8,
     "metadata": {},
     "output_type": "execute_result"
    }
   ],
   "source": [
    "# Retrieve daily returns of close prices.\n",
    "daily_returns_df = calculate_daily_returns(raw_data_close_df)\n",
    "\n",
    "# Verify daily returns.\n",
    "daily_returns_df.head(-5)"
   ]
  },
  {
   "cell_type": "markdown",
   "metadata": {},
   "source": [
    "## Retrieve Average Annual Returns"
   ]
  },
  {
   "cell_type": "code",
   "execution_count": 9,
   "metadata": {},
   "outputs": [
    {
     "data": {
      "text/plain": [
       "AGG    0.113271\n",
       "SPY   -0.028635\n",
       "dtype: float64"
      ]
     },
     "metadata": {},
     "output_type": "display_data"
    }
   ],
   "source": [
    "# Calculate average annual returns.\n",
    "average_annual_returns_df = calculate_average_annual_returns(daily_returns_df)\n",
    "\n",
    "# Verify average annual returns.\n",
    "display(average_annual_returns_df)"
   ]
  },
  {
   "cell_type": "markdown",
   "metadata": {},
   "source": [
    "## Calculate Average Annual Volatility"
   ]
  },
  {
   "cell_type": "code",
   "execution_count": 10,
   "metadata": {},
   "outputs": [
    {
     "data": {
      "text/plain": [
       "AGG    0.134925\n",
       "SPY    0.497609\n",
       "dtype: float64"
      ]
     },
     "metadata": {},
     "output_type": "display_data"
    }
   ],
   "source": [
    "# Calculate average annual volatility.\n",
    "average_annual_volatility_df = calculate_average_annual_volatility(daily_returns_df)\n",
    "\n",
    "# Verify average annual volatility.\n",
    "display(average_annual_volatility_df)"
   ]
  },
  {
   "cell_type": "markdown",
   "metadata": {},
   "source": [
    "## Calculate Sharpe Ratio"
   ]
  },
  {
   "cell_type": "code",
   "execution_count": 12,
   "metadata": {},
   "outputs": [
    {
     "name": "stdout",
     "output_type": "stream",
     "text": [
      "AGG    0.839510\n",
      "SPY   -0.057544\n",
      "dtype: float64\n"
     ]
    }
   ],
   "source": [
    "# Calculate Sharpe Ratios. \n",
    "print(calculate_sharpe_ratio(average_annual_returns_df, average_annual_volatility_df))"
   ]
  },
  {
   "cell_type": "markdown",
   "metadata": {},
   "source": [
    "## Calculate Portfolio Return per Risk Profile"
   ]
  },
  {
   "cell_type": "code",
   "execution_count": 14,
   "metadata": {},
   "outputs": [
    {
     "name": "stdout",
     "output_type": "stream",
     "text": [
      "Portfolio return:  7.92%\n"
     ]
    }
   ],
   "source": [
    "# Calculate portfolio returns per risk profile.\n",
    "portfolio_return = calculate_portfolio_return(average_annual_returns_df, risk_profile_weights[risk_prof])\n",
    "\n",
    "# Print out.\n",
    "print(f\"Portfolio return: {portfolio_return * 100: .2f}%\")"
   ]
  },
  {
   "cell_type": "markdown",
   "metadata": {},
   "source": [
    "## Visualization Time! "
   ]
  },
  {
   "cell_type": "code",
   "execution_count": null,
   "metadata": {},
   "outputs": [],
   "source": []
  }
 ],
 "metadata": {
  "kernelspec": {
   "display_name": "Python 3",
   "language": "python",
   "name": "python3"
  },
  "language_info": {
   "codemirror_mode": {
    "name": "ipython",
    "version": 3
   },
   "file_extension": ".py",
   "mimetype": "text/x-python",
   "name": "python",
   "nbconvert_exporter": "python",
   "pygments_lexer": "ipython3",
   "version": "3.7.9"
  }
 },
 "nbformat": 4,
 "nbformat_minor": 5
}
